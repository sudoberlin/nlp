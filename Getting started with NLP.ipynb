{
 "cells": [
  {
   "cell_type": "code",
   "execution_count": 1,
   "metadata": {},
   "outputs": [],
   "source": [
    "#text search using regural expression(re)\n",
    "#searching for a particular type of design or wordset from a given text\n",
    "import re\n",
    "#the function in this module allow you to check if a given matches a particular re or vice versa\n"
   ]
  },
  {
   "cell_type": "code",
   "execution_count": 6,
   "metadata": {},
   "outputs": [
    {
     "data": {
      "text/plain": [
       "['going', 'this', 'year']"
      ]
     },
     "execution_count": 6,
     "metadata": {},
     "output_type": "execute_result"
    }
   ],
   "source": [
    "words_ = ['it','well' ,'going','this','year']\n",
    "expression = '|'.join(words_)\n",
    "re.findall (expression, 'i am going to rock this  year',re.M)"
   ]
  },
  {
   "cell_type": "code",
   "execution_count": 3,
   "metadata": {},
   "outputs": [
    {
     "name": "stdout",
     "output_type": "stream",
     "text": [
      "['I', 'would', 'love', 'to', 'try', 'or', 'hear', 'the', 'sample', 'audio', 'your', 'app', 'can', 'produce.', 'I', 'do', 'not', 'want', 'to', 'purchase,', 'because', \"I've\", 'purchased', 'so', 'many', 'apps', 'that', 'say', 'they', 'do', 'something', 'and', 'do', 'not', 'deliver.', 'Can', 'you', 'please', 'add', 'audio', 'samples', 'with', 'text', \"you've\", 'converted?', \"I'd\", 'love', 'to', 'see', 'the', 'end', 'results.', 'Thanks!']\n"
     ]
    }
   ],
   "source": [
    "#text to list-\n",
    "text_file = ('/home/shubh/Desktop/sample.txt')\n",
    "#individual words as separate elements of the list \n",
    "with open (text_file)as f:\n",
    "    words = f.read().split()\n",
    "    \n",
    "print(words)    "
   ]
  },
  {
   "cell_type": "code",
   "execution_count": null,
   "metadata": {},
   "outputs": [],
   "source": []
  },
  {
   "cell_type": "code",
   "execution_count": null,
   "metadata": {},
   "outputs": [],
   "source": []
  }
 ],
 "metadata": {
  "kernelspec": {
   "display_name": "Python 3",
   "language": "python",
   "name": "python3"
  },
  "language_info": {
   "codemirror_mode": {
    "name": "ipython",
    "version": 3
   },
   "file_extension": ".py",
   "mimetype": "text/x-python",
   "name": "python",
   "nbconvert_exporter": "python",
   "pygments_lexer": "ipython3",
   "version": "3.7.3"
  }
 },
 "nbformat": 4,
 "nbformat_minor": 2
}
