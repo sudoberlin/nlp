{
 "cells": [
  {
   "cell_type": "code",
   "execution_count": 5,
   "metadata": {},
   "outputs": [],
   "source": [
    "import nltk"
   ]
  },
  {
   "cell_type": "code",
   "execution_count": 6,
   "metadata": {},
   "outputs": [
    {
     "data": {
      "text/plain": [
       "['go', 'fuck', 'yourself']"
      ]
     },
     "execution_count": 6,
     "metadata": {},
     "output_type": "execute_result"
    }
   ],
   "source": [
    "sent_ = \"go fuck yourself\"\n",
    "tokens_ = nltk.word_tokenize(sent_)\n",
    "tokens_"
   ]
  },
  {
   "cell_type": "code",
   "execution_count": 31,
   "metadata": {},
   "outputs": [
    {
     "name": "stderr",
     "output_type": "stream",
     "text": [
      "[nltk_data] Downloading package wordnet to /home/shubh/nltk_data...\n",
      "[nltk_data]   Package wordnet is already up-to-date!\n"
     ]
    },
    {
     "data": {
      "text/plain": [
       "True"
      ]
     },
     "execution_count": 31,
     "metadata": {},
     "output_type": "execute_result"
    }
   ],
   "source": [
    "nltk.download('wordnet')\n"
   ]
  },
  {
   "cell_type": "code",
   "execution_count": 29,
   "metadata": {},
   "outputs": [
    {
     "data": {
      "text/plain": [
       "[Synset('pure.a.01'),\n",
       " Synset('arrant.s.01'),\n",
       " Synset('saturated.a.03'),\n",
       " Synset('pure.s.04'),\n",
       " Synset('pure.s.05'),\n",
       " Synset('pure.a.06'),\n",
       " Synset('pure.s.07')]"
      ]
     },
     "execution_count": 29,
     "metadata": {},
     "output_type": "execute_result"
    }
   ],
   "source": [
    "#synonyms\n",
    "from nltk.corpus import wordnet#corpus = collection of texts\n",
    "word_ = wordnet.synsets(\"pure\")\n",
    "word_"
   ]
  },
  {
   "cell_type": "code",
   "execution_count": 17,
   "metadata": {},
   "outputs": [
    {
     "data": {
      "text/plain": [
       "'without qualification; used informally as (often pejorative) intensifiers'"
      ]
     },
     "execution_count": 17,
     "metadata": {},
     "output_type": "execute_result"
    }
   ],
   "source": [
    "word_[1].definition()#printing the meaning along of each synonyms"
   ]
  },
  {
   "cell_type": "code",
   "execution_count": 18,
   "metadata": {},
   "outputs": [
    {
     "data": {
      "text/plain": [
       "'(of color) being chromatically pure; not diluted with white or grey or black'"
      ]
     },
     "execution_count": 18,
     "metadata": {},
     "output_type": "execute_result"
    }
   ],
   "source": [
    "word_[2].definition()"
   ]
  },
  {
   "cell_type": "code",
   "execution_count": 19,
   "metadata": {},
   "outputs": [
    {
     "data": {
      "text/plain": [
       "'free from discordant qualities'"
      ]
     },
     "execution_count": 19,
     "metadata": {},
     "output_type": "execute_result"
    }
   ],
   "source": [
    "word_[3].definition()"
   ]
  },
  {
   "cell_type": "code",
   "execution_count": 24,
   "metadata": {},
   "outputs": [
    {
     "data": {
      "text/plain": [
       "'imaginari'"
      ]
     },
     "execution_count": 24,
     "metadata": {},
     "output_type": "execute_result"
    }
   ],
   "source": [
    "#stemming - removing affixeses from the words and returning the root word(may not be real words)\n",
    "#lemmatizing - simiral to stemming but gives real words \n",
    "\n",
    "\n",
    "#stemming\n",
    "from nltk.stem import PorterStemmer\n",
    "stemmer = PorterStemmer() # create the stemmer object\n",
    "stemmer.stem(\"imaginary\")"
   ]
  },
  {
   "cell_type": "code",
   "execution_count": 32,
   "metadata": {},
   "outputs": [
    {
     "data": {
      "text/plain": [
       "'increase'"
      ]
     },
     "execution_count": 32,
     "metadata": {},
     "output_type": "execute_result"
    }
   ],
   "source": [
    "#lemmatization\n",
    "from nltk.stem import WordNetLemmatizer\n",
    "lemmatizer = WordNetLemmatizer() #creeate the lemmatizer object\n",
    "lemmatizer.lemmatize(\"imaginary\")\n",
    "lemmatizer.lemmatize(\"increases\")"
   ]
  },
  {
   "cell_type": "code",
   "execution_count": 36,
   "metadata": {},
   "outputs": [
    {
     "data": {
      "text/plain": [
       "Sentiment(polarity=-1.0, subjectivity=1.0)"
      ]
     },
     "execution_count": 36,
     "metadata": {},
     "output_type": "execute_result"
    }
   ],
   "source": [
    "#TextBlob --->\n",
    "\n",
    "# - is a python library for textual data, we can use this for sentiment analysis\n",
    "from textblob import TextBlob\n",
    "#taking a statement\n",
    "statement = TextBlob(\"this was my worst day ever\")\n",
    "#calculating the sentiment attached with the statement\n",
    "statement.sentiment\n",
    "#polarity - defines negetivity or positivity of the sentence\n",
    "#subjectivity - implies whether the sentence discuss something vaguely(unclear) or with complete surety "
   ]
  },
  {
   "cell_type": "code",
   "execution_count": 37,
   "metadata": {},
   "outputs": [
    {
     "data": {
      "text/plain": [
       "Sentiment(polarity=1.0, subjectivity=1.0)"
      ]
     },
     "execution_count": 37,
     "metadata": {},
     "output_type": "execute_result"
    }
   ],
   "source": [
    "statement = TextBlob(\"tomorrow is the holiday and i am very happy for this \")\n",
    "statement.sentiment"
   ]
  },
  {
   "cell_type": "code",
   "execution_count": 38,
   "metadata": {},
   "outputs": [
    {
     "data": {
      "text/plain": [
       "TextBlob(\"In linguistics and NLP, corpus (literally Latin for body) refers to a collection of texts. Such collections may be formed of a single language of texts, or can span multiple languages -- there are numerous reasons for which multilingual corpora (the plural of corpus) may be useful\")"
      ]
     },
     "execution_count": 38,
     "metadata": {},
     "output_type": "execute_result"
    }
   ],
   "source": [
    "#we can use textblob for tagging purpose as well.\n",
    "#tagging- is a process of denoting a word in a text(corpus) as corresponding to a particular part of speech\n",
    "\n",
    "\n",
    "#defining a sample text\n",
    "text = '''In linguistics and NLP, corpus (literally Latin for body) refers to a collection of texts. Such collections may be formed of a single language of texts, or can span multiple languages -- there are numerous reasons for which multilingual corpora (the plural of corpus) may be useful'''\n",
    "blob_ = TextBlob(text)\n",
    "blob_"
   ]
  },
  {
   "cell_type": "code",
   "execution_count": 39,
   "metadata": {},
   "outputs": [
    {
     "name": "stderr",
     "output_type": "stream",
     "text": [
      "[nltk_data] Downloading package punkt to /home/shubh/nltk_data...\n",
      "[nltk_data]   Package punkt is already up-to-date!\n"
     ]
    },
    {
     "data": {
      "text/plain": [
       "True"
      ]
     },
     "execution_count": 39,
     "metadata": {},
     "output_type": "execute_result"
    }
   ],
   "source": [
    "nltk.download(\"punkt\")"
   ]
  },
  {
   "cell_type": "code",
   "execution_count": 41,
   "metadata": {},
   "outputs": [
    {
     "name": "stderr",
     "output_type": "stream",
     "text": [
      "[nltk_data] Downloading package averaged_perceptron_tagger to\n",
      "[nltk_data]     /home/shubh/nltk_data...\n",
      "[nltk_data]   Unzipping taggers/averaged_perceptron_tagger.zip.\n"
     ]
    },
    {
     "data": {
      "text/plain": [
       "True"
      ]
     },
     "execution_count": 41,
     "metadata": {},
     "output_type": "execute_result"
    }
   ],
   "source": [
    "nltk.download(\"averaged_perceptron_tagger\")"
   ]
  },
  {
   "cell_type": "code",
   "execution_count": 42,
   "metadata": {},
   "outputs": [
    {
     "data": {
      "text/plain": [
       "[('In', 'IN'),\n",
       " ('linguistics', 'NNS'),\n",
       " ('and', 'CC'),\n",
       " ('NLP', 'NNP'),\n",
       " ('corpus', 'NN'),\n",
       " ('literally', 'RB'),\n",
       " ('Latin', 'NNP'),\n",
       " ('for', 'IN'),\n",
       " ('body', 'NN'),\n",
       " ('refers', 'VBZ'),\n",
       " ('to', 'TO'),\n",
       " ('a', 'DT'),\n",
       " ('collection', 'NN'),\n",
       " ('of', 'IN'),\n",
       " ('texts', 'NN'),\n",
       " ('Such', 'JJ'),\n",
       " ('collections', 'NNS'),\n",
       " ('may', 'MD'),\n",
       " ('be', 'VB'),\n",
       " ('formed', 'VBN'),\n",
       " ('of', 'IN'),\n",
       " ('a', 'DT'),\n",
       " ('single', 'JJ'),\n",
       " ('language', 'NN'),\n",
       " ('of', 'IN'),\n",
       " ('texts', 'NN'),\n",
       " ('or', 'CC'),\n",
       " ('can', 'MD'),\n",
       " ('span', 'VB'),\n",
       " ('multiple', 'JJ'),\n",
       " ('languages', 'NNS'),\n",
       " ('there', 'EX'),\n",
       " ('are', 'VBP'),\n",
       " ('numerous', 'JJ'),\n",
       " ('reasons', 'NNS'),\n",
       " ('for', 'IN'),\n",
       " ('which', 'WDT'),\n",
       " ('multilingual', 'JJ'),\n",
       " ('corpora', 'NN'),\n",
       " ('the', 'DT'),\n",
       " ('plural', 'NN'),\n",
       " ('of', 'IN'),\n",
       " ('corpus', 'NN'),\n",
       " ('may', 'MD'),\n",
       " ('be', 'VB'),\n",
       " ('useful', 'JJ')]"
      ]
     },
     "execution_count": 42,
     "metadata": {},
     "output_type": "execute_result"
    }
   ],
   "source": [
    "blob_.tags"
   ]
  },
  {
   "cell_type": "code",
   "execution_count": 45,
   "metadata": {},
   "outputs": [
    {
     "data": {
      "text/plain": [
       "TextBlob(\"I think model needs to be trained more!\")"
      ]
     },
     "execution_count": 45,
     "metadata": {},
     "output_type": "execute_result"
    }
   ],
   "source": [
    "#we can use TextBlob to deal with spelling errors\n",
    "sample_ = TextBlob(\"I thinkk moddel needs to be trained more!\")\n",
    "sample_.correct()"
   ]
  },
  {
   "cell_type": "code",
   "execution_count": 52,
   "metadata": {},
   "outputs": [
    {
     "data": {
      "text/plain": [
       "TextBlob(\"सुज़ैन और जोसेफ का जन्म कॉलोनी में आने के पहले दो वर्षों में हुआ था।\")"
      ]
     },
     "execution_count": 52,
     "metadata": {},
     "output_type": "execute_result"
    }
   ],
   "source": [
    "#further more package offers language a tranaslation module\n",
    "lang_ = TextBlob(\"Suzanne et Joseph étaient nés dans les deux premières années de leur arrivée à la colonie. \")\n",
    "lang_.translate(from_lang = 'fr', to ='hi')"
   ]
  },
  {
   "cell_type": "code",
   "execution_count": null,
   "metadata": {},
   "outputs": [],
   "source": []
  }
 ],
 "metadata": {
  "kernelspec": {
   "display_name": "Python 3",
   "language": "python",
   "name": "python3"
  },
  "language_info": {
   "codemirror_mode": {
    "name": "ipython",
    "version": 3
   },
   "file_extension": ".py",
   "mimetype": "text/x-python",
   "name": "python",
   "nbconvert_exporter": "python",
   "pygments_lexer": "ipython3",
   "version": "3.7.3"
  }
 },
 "nbformat": 4,
 "nbformat_minor": 2
}
